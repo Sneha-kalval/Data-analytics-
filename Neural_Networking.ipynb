{
  "cells": [
    {
      "cell_type": "markdown",
      "metadata": {
        "id": "view-in-github",
        "colab_type": "text"
      },
      "source": [
        "<a href=\"https://colab.research.google.com/github/Sneha-kalval/Data-analytics-/blob/main/Neural_Networking.ipynb\" target=\"_parent\"><img src=\"https://colab.research.google.com/assets/colab-badge.svg\" alt=\"Open In Colab\"/></a>"
      ]
    },
    {
      "cell_type": "markdown",
      "source": [
        "The Sercasm Analysis below has two parts\n",
        "  Background\n",
        "   1) Uploading tenserflow & json library\n",
        "    2) Defining the size & length\n",
        " A)1) Uploading the data\n",
        "   2) Defining sentences & labels and spliting into training & testing\n",
        "   3) Defining padded sequences of training & testing with TOKENIZER\n",
        "   4) Defining \"MODEL\" with keras sequential layers\n",
        "\n",
        "B) 1) Now, taking fresh example of two sentences\n",
        "   2) i)\"granny starting to fear spiders in the\n",
        "          garden might be real\"\n",
        "    ii) \"game of thrones season finale showing this sunday night\"\n",
        "   to find out which sentence is more sercastic\n",
        "   3) These two sentences converted into padded sequence with TOKENIZER\n",
        "   4)Now regressing padded sequence of part B into Part A's \"MODEL\"\n",
        "   5) Found the following result\n",
        "    i)9.6769744e-01  = 3.55 (It shows high level of sercasm)\n",
        "    ii)2.0045614e-05 = 0.0135 (It shows low level of sercasm)\n",
        "    #(The result above is original result differnt from our result below, it show we need there is scope for impovement)"
      ],
      "metadata": {
        "id": "1UO-8NqnatuF"
      }
    },
    {
      "cell_type": "markdown",
      "source": [
        "Importing tensorflow for machine learning & json for sercasm analysis"
      ],
      "metadata": {
        "id": "05MEmLj8WR3R"
      }
    },
    {
      "cell_type": "code",
      "execution_count": null,
      "metadata": {
        "id": "XYYDvoskkE61"
      },
      "outputs": [],
      "source": [
        "import json\n",
        "import tensorflow as tf\n",
        "\n",
        "from tensorflow.keras.preprocessing.text import Tokenizer\n",
        "from tensorflow.keras.preprocessing.sequence import pad_sequences"
      ]
    },
    {
      "cell_type": "markdown",
      "source": [
        "defining vocab size of words, length, training size"
      ],
      "metadata": {
        "id": "4GYkIeQMWjQa"
      }
    },
    {
      "cell_type": "code",
      "execution_count": null,
      "metadata": {
        "id": "0eJSTTYnkJQd"
      },
      "outputs": [],
      "source": [
        "vocab_size = 10000\n",
        "embedding_dim = 16\n",
        "max_length = 100\n",
        "trunc_type='post'\n",
        "padding_type='post'\n",
        "oov_tok = \"<OOV>\"\n",
        "training_size = 20000\n"
      ]
    },
    {
      "cell_type": "markdown",
      "source": [
        "Upload text data from googleapis"
      ],
      "metadata": {
        "id": "bCEkBPEhXBXD"
      }
    },
    {
      "cell_type": "code",
      "execution_count": null,
      "metadata": {
        "colab": {
          "base_uri": "https://localhost:8080/"
        },
        "id": "BQVuQrZNkPn9",
        "outputId": "47462a96-2705-4db1-9f3c-dc8e04067a34"
      },
      "outputs": [
        {
          "output_type": "stream",
          "name": "stdout",
          "text": [
            "--2024-04-11 04:45:03--  https://storage.googleapis.com/learning-datasets/sarcasm.json\n",
            "Resolving storage.googleapis.com (storage.googleapis.com)... 142.251.161.207, 74.125.126.207, 74.125.132.207, ...\n",
            "Connecting to storage.googleapis.com (storage.googleapis.com)|142.251.161.207|:443... connected.\n",
            "HTTP request sent, awaiting response... 200 OK\n",
            "Length: 5643545 (5.4M) [application/json]\n",
            "Saving to: ‘/tmp/sarcasm.json’\n",
            "\n",
            "\r/tmp/sarcasm.json     0%[                    ]       0  --.-KB/s               \r/tmp/sarcasm.json   100%[===================>]   5.38M  --.-KB/s    in 0.02s   \n",
            "\n",
            "2024-04-11 04:45:03 (228 MB/s) - ‘/tmp/sarcasm.json’ saved [5643545/5643545]\n",
            "\n"
          ]
        }
      ],
      "source": [
        "!wget --no-check-certificate \\\n",
        "    https://storage.googleapis.com/learning-datasets/sarcasm.json \\\n",
        "    -O /tmp/sarcasm.json\n"
      ]
    },
    {
      "cell_type": "markdown",
      "source": [
        "Defining sentences & labels from dataset saved"
      ],
      "metadata": {
        "id": "NV6-PL9ZXTJu"
      }
    },
    {
      "cell_type": "code",
      "execution_count": null,
      "metadata": {
        "id": "oaLaaqhNkUPd"
      },
      "outputs": [],
      "source": [
        "with open(\"/tmp/sarcasm.json\", 'r') as f:datastore = json.load(f)\n",
        "sentences=[]\n",
        "labels=[]\n",
        "for item in datastore:\n",
        "  sentences.append(item['headline'])\n",
        "  labels.append(item['is_sarcastic'])"
      ]
    },
    {
      "cell_type": "markdown",
      "source": [
        "spliting sentences & labels into training & testing"
      ],
      "metadata": {
        "id": "uJ789VecX3q2"
      }
    },
    {
      "cell_type": "code",
      "execution_count": null,
      "metadata": {
        "id": "S1sD-7v0kYWk"
      },
      "outputs": [],
      "source": [
        "training_sentences = sentences[0:training_size]\n",
        "testing_sentences = sentences[training_size:]\n",
        "training_labels = labels[0:training_size]\n",
        "testing_labels = labels[training_size:]"
      ]
    },
    {
      "cell_type": "markdown",
      "source": [
        "defining tokenizer & attaching training sentences to tokenizer & also defining word index"
      ],
      "metadata": {
        "id": "x6WjFDFSYJK4"
      }
    },
    {
      "cell_type": "code",
      "execution_count": null,
      "metadata": {
        "id": "3u8UB0MCkZ5N"
      },
      "outputs": [],
      "source": [
        "tokenizer = Tokenizer(num_words=vocab_size, oov_token=oov_tok)\n",
        "tokenizer.fit_on_texts(training_sentences)\n",
        "word_index = tokenizer.word_index"
      ]
    },
    {
      "cell_type": "markdown",
      "source": [],
      "metadata": {
        "id": "oYTQ6NkMYqR5"
      }
    },
    {
      "cell_type": "markdown",
      "source": [
        "defining training and testing sequences outof sentences & defining training & testing padded"
      ],
      "metadata": {
        "id": "SFjSYX3FYqZT"
      }
    },
    {
      "cell_type": "code",
      "source": [
        "training_sequences = tokenizer.texts_to_sequences(training_sentences)\n",
        "training_padded = pad_sequences(training_sequences, maxlen=max_length, padding=padding_type, truncating=trunc_type)\n",
        "\n",
        "testing_sequences = tokenizer.texts_to_sequences(testing_sentences)\n",
        "testing_padded = pad_sequences(testing_sequences, maxlen=max_length, padding=padding_type, truncating=trunc_type)"
      ],
      "metadata": {
        "id": "IEV1CutLYm1X"
      },
      "execution_count": null,
      "outputs": []
    },
    {
      "cell_type": "markdown",
      "source": [
        "Defining the model with tenserflow & keras library"
      ],
      "metadata": {
        "id": "0DkYWWdPZMl8"
      }
    },
    {
      "cell_type": "code",
      "execution_count": null,
      "metadata": {
        "id": "FufaT4vlkiDE"
      },
      "outputs": [],
      "source": [
        "model = tf.keras.Sequential([\n",
        "    tf.keras.layers.Embedding(vocab_size, embedding_dim, input_length=max_length),\n",
        "    tf.keras.layers.GlobalAveragePooling1D(),\n",
        "    tf.keras.layers.Dense(24, activation='relu'),\n",
        "    tf.keras.layers.Dense(1, activation='sigmoid')\n",
        "])\n",
        "model.compile(loss='binary_crossentropy',optimizer='adam',metrics=['accuracy'])"
      ]
    },
    {
      "cell_type": "markdown",
      "source": [
        "Now, New example for sercasm analysis with two sentences to find out which one is sercastic & which one is not"
      ],
      "metadata": {
        "id": "vMj4KowHZoFW"
      }
    },
    {
      "cell_type": "code",
      "source": [
        "sentence = [\"granny starting to fear spiders in the garden might be real\", \"game of thrones season finale showing this sunday night\"]"
      ],
      "metadata": {
        "id": "XGamjgxCN_cM"
      },
      "execution_count": null,
      "outputs": []
    },
    {
      "cell_type": "markdown",
      "source": [
        "To find sercasm level we convert above sentense into sequences & padded sequences with tokenizer"
      ],
      "metadata": {
        "id": "WYD5aqeuZ_33"
      }
    },
    {
      "cell_type": "code",
      "source": [
        "sequences = tokenizer.texts_to_sequences(sentence)\n",
        "padded = pad_sequences(sequences, maxlen=max_length, padding=padding_type, truncating=trunc_type)"
      ],
      "metadata": {
        "id": "mKyDzh__OYks"
      },
      "execution_count": null,
      "outputs": []
    },
    {
      "cell_type": "markdown",
      "source": [
        "we are puting padded sequnces into the model for prediction print"
      ],
      "metadata": {
        "id": "YPYegxC4afhg"
      }
    },
    {
      "cell_type": "code",
      "source": [
        "print(model.predict(padded))"
      ],
      "metadata": {
        "id": "DwZNkZ9oOnSW",
        "colab": {
          "base_uri": "https://localhost:8080/"
        },
        "outputId": "b3d0d158-86f5-418b-c0d4-12278d40e767"
      },
      "execution_count": null,
      "outputs": [
        {
          "output_type": "stream",
          "name": "stdout",
          "text": [
            "1/1 [==============================] - 0s 23ms/step\n",
            "[[0.4976811 ]\n",
            " [0.49757558]]\n"
          ]
        }
      ]
    }
  ],
  "metadata": {
    "accelerator": "GPU",
    "colab": {
      "provenance": [],
      "include_colab_link": true
    },
    "kernelspec": {
      "display_name": "Python 3",
      "name": "python3"
    }
  },
  "nbformat": 4,
  "nbformat_minor": 0
}